{
 "cells": [
  {
   "cell_type": "code",
   "execution_count": 1,
   "id": "26ad86ae",
   "metadata": {},
   "outputs": [],
   "source": [
    "#importing useful libraries\n",
    "import numpy as np\n",
    "import pandas as pd\n",
    "import ipywidgets as widget\n",
    "import matplotlib.pyplot as plt\n",
    "import seaborn as sns"
   ]
  },
  {
   "cell_type": "code",
   "execution_count": 2,
   "id": "f97520c9",
   "metadata": {},
   "outputs": [],
   "source": [
    "#child_death dataset collected from https://childmortality.org/data\n",
    "df= pd.read_excel(\"child_death.xlsx\")"
   ]
  },
  {
   "cell_type": "code",
   "execution_count": 3,
   "id": "a966fca8",
   "metadata": {},
   "outputs": [
    {
     "data": {
      "text/html": [
       "<div>\n",
       "<style scoped>\n",
       "    .dataframe tbody tr th:only-of-type {\n",
       "        vertical-align: middle;\n",
       "    }\n",
       "\n",
       "    .dataframe tbody tr th {\n",
       "        vertical-align: top;\n",
       "    }\n",
       "\n",
       "    .dataframe thead th {\n",
       "        text-align: right;\n",
       "    }\n",
       "</style>\n",
       "<table border=\"1\" class=\"dataframe\">\n",
       "  <thead>\n",
       "    <tr style=\"text-align: right;\">\n",
       "      <th></th>\n",
       "      <th>Region</th>\n",
       "      <th>Year</th>\n",
       "      <th>U5MR</th>\n",
       "      <th>IMR</th>\n",
       "      <th>NMR</th>\n",
       "      <th>CMR</th>\n",
       "      <th>Under5Deaths</th>\n",
       "      <th>InfantDeaths</th>\n",
       "      <th>NeonatalDeaths</th>\n",
       "      <th>Deathsfrom1to4</th>\n",
       "    </tr>\n",
       "  </thead>\n",
       "  <tbody>\n",
       "    <tr>\n",
       "      <th>0</th>\n",
       "      <td>Sub-Saharan Africa</td>\n",
       "      <td>1990</td>\n",
       "      <td>179.231607</td>\n",
       "      <td>107.016190</td>\n",
       "      <td>45.537373</td>\n",
       "      <td>80.869795</td>\n",
       "      <td>3841996</td>\n",
       "      <td>2335431</td>\n",
       "      <td>1022404</td>\n",
       "      <td>1506565</td>\n",
       "    </tr>\n",
       "    <tr>\n",
       "      <th>1</th>\n",
       "      <td>Sub-Saharan Africa</td>\n",
       "      <td>1991</td>\n",
       "      <td>177.631046</td>\n",
       "      <td>106.096077</td>\n",
       "      <td>45.136541</td>\n",
       "      <td>80.025344</td>\n",
       "      <td>3886542</td>\n",
       "      <td>2362716</td>\n",
       "      <td>1033961</td>\n",
       "      <td>1523826</td>\n",
       "    </tr>\n",
       "    <tr>\n",
       "      <th>2</th>\n",
       "      <td>Sub-Saharan Africa</td>\n",
       "      <td>1992</td>\n",
       "      <td>176.019880</td>\n",
       "      <td>105.160180</td>\n",
       "      <td>44.770693</td>\n",
       "      <td>79.187022</td>\n",
       "      <td>3931139</td>\n",
       "      <td>2390178</td>\n",
       "      <td>1046617</td>\n",
       "      <td>1540961</td>\n",
       "    </tr>\n",
       "    <tr>\n",
       "      <th>3</th>\n",
       "      <td>Sub-Saharan Africa</td>\n",
       "      <td>1993</td>\n",
       "      <td>174.576605</td>\n",
       "      <td>104.229682</td>\n",
       "      <td>44.427455</td>\n",
       "      <td>78.532322</td>\n",
       "      <td>3980816</td>\n",
       "      <td>2418682</td>\n",
       "      <td>1060258</td>\n",
       "      <td>1562134</td>\n",
       "    </tr>\n",
       "    <tr>\n",
       "      <th>4</th>\n",
       "      <td>Sub-Saharan Africa</td>\n",
       "      <td>1994</td>\n",
       "      <td>174.172074</td>\n",
       "      <td>103.864060</td>\n",
       "      <td>44.069238</td>\n",
       "      <td>78.456862</td>\n",
       "      <td>4060035</td>\n",
       "      <td>2461979</td>\n",
       "      <td>1074063</td>\n",
       "      <td>1598056</td>\n",
       "    </tr>\n",
       "  </tbody>\n",
       "</table>\n",
       "</div>"
      ],
      "text/plain": [
       "               Region  Year        U5MR         IMR        NMR        CMR  \\\n",
       "0  Sub-Saharan Africa  1990  179.231607  107.016190  45.537373  80.869795   \n",
       "1  Sub-Saharan Africa  1991  177.631046  106.096077  45.136541  80.025344   \n",
       "2  Sub-Saharan Africa  1992  176.019880  105.160180  44.770693  79.187022   \n",
       "3  Sub-Saharan Africa  1993  174.576605  104.229682  44.427455  78.532322   \n",
       "4  Sub-Saharan Africa  1994  174.172074  103.864060  44.069238  78.456862   \n",
       "\n",
       "   Under5Deaths  InfantDeaths  NeonatalDeaths  Deathsfrom1to4  \n",
       "0       3841996       2335431         1022404         1506565  \n",
       "1       3886542       2362716         1033961         1523826  \n",
       "2       3931139       2390178         1046617         1540961  \n",
       "3       3980816       2418682         1060258         1562134  \n",
       "4       4060035       2461979         1074063         1598056  "
      ]
     },
     "execution_count": 3,
     "metadata": {},
     "output_type": "execute_result"
    }
   ],
   "source": [
    "#let's have a look at the top entries\n",
    "df.head()"
   ]
  },
  {
   "cell_type": "code",
   "execution_count": 4,
   "id": "9e841889",
   "metadata": {},
   "outputs": [],
   "source": [
    "#creating a dropdown widget\n",
    "Select_Column= widget.Dropdown(options=(df.columns))"
   ]
  },
  {
   "cell_type": "code",
   "execution_count": 5,
   "id": "850b132c",
   "metadata": {},
   "outputs": [
    {
     "data": {
      "application/vnd.jupyter.widget-view+json": {
       "model_id": "7e5d02a974134f80a1b5ef521ba4c5b9",
       "version_major": 2,
       "version_minor": 0
      },
      "text/plain": [
       "Dropdown(options=('Region', 'Year', 'U5MR', 'IMR', 'NMR', 'CMR', 'Under5Deaths', 'InfantDeaths', 'NeonatalDeat…"
      ]
     },
     "metadata": {},
     "output_type": "display_data"
    }
   ],
   "source": [
    "#see the Dropdown widget\n",
    "Select_Column"
   ]
  },
  {
   "cell_type": "markdown",
   "id": "fb12c37e",
   "metadata": {},
   "source": [
    "**Let's use the widget library to select a specific column and create its Box Plot accordingly:**"
   ]
  },
  {
   "cell_type": "code",
   "execution_count": 6,
   "id": "057d3386",
   "metadata": {},
   "outputs": [],
   "source": [
    "#a function to create boxplot\n",
    "def select_column(cl_name):\n",
    "    df.boxplot(column= cl_name, grid= False, figsize=(25,8))"
   ]
  },
  {
   "cell_type": "code",
   "execution_count": 7,
   "id": "2622e609",
   "metadata": {},
   "outputs": [
    {
     "data": {
      "application/vnd.jupyter.widget-view+json": {
       "model_id": "b3d0752a6ebd411ca3ec9c6b07054252",
       "version_major": 2,
       "version_minor": 0
      },
      "text/plain": [
       "interactive(children=(Dropdown(description='cl_name', options=('Year', 'U5MR', 'IMR', 'NMR', 'CMR', 'Under5Dea…"
      ]
     },
     "metadata": {},
     "output_type": "display_data"
    },
    {
     "data": {
      "text/plain": [
       "<function __main__.select_column(cl_name)>"
      ]
     },
     "execution_count": 7,
     "metadata": {},
     "output_type": "execute_result"
    }
   ],
   "source": [
    "#use of widget.interact function\n",
    "widget.interact(select_column,cl_name=df.select_dtypes(include=np.number).columns)"
   ]
  },
  {
   "cell_type": "code",
   "execution_count": 8,
   "id": "9cb272da",
   "metadata": {},
   "outputs": [
    {
     "name": "stdout",
     "output_type": "stream",
     "text": [
      "['Accordion', 'AppLayout', 'Audio', 'BoundedFloatText', 'BoundedIntText', 'Box', 'Button', 'ButtonStyle', 'CallbackDispatcher', 'Checkbox', 'Color', 'ColorPicker', 'Combobox', 'Controller', 'CoreWidget', 'DOMWidget', 'DatePicker', 'Datetime', 'Dropdown', 'FileUpload', 'FloatLogSlider', 'FloatProgress', 'FloatRangeSlider', 'FloatSlider', 'FloatText', 'GridBox', 'GridspecLayout', 'HBox', 'HTML', 'HTMLMath', 'Image', 'IntProgress', 'IntRangeSlider', 'IntSlider', 'IntText', 'Label', 'Layout', 'NumberFormat', 'Output', 'Password', 'Play', 'RadioButtons', 'Select', 'SelectMultiple', 'SelectionRangeSlider', 'SelectionSlider', 'SliderStyle', 'Style', 'Tab', 'Text', 'Textarea', 'ToggleButton', 'ToggleButtons', 'ToggleButtonsStyle', 'TwoByTwoLayout', 'VBox', 'Valid', 'ValueWidget', 'Video', 'Widget', '__builtins__', '__cached__', '__doc__', '__file__', '__jupyter_widgets_base_version__', '__jupyter_widgets_controls_version__', '__loader__', '__name__', '__package__', '__path__', '__protocol_version__', '__spec__', '__version__', '_handle_ipython', '_version', 'dlink', 'docutils', 'domwidget', 'fixed', 'get_ipython', 'handle_kernel', 'interact', 'interact_manual', 'interaction', 'interactive', 'interactive_output', 'jsdlink', 'jslink', 'link', 'load_ipython_extension', 'os', 'register', 'register_comm_target', 'trait_types', 'util', 'valuewidget', 'version_info', 'widget', 'widget_bool', 'widget_box', 'widget_button', 'widget_color', 'widget_controller', 'widget_core', 'widget_date', 'widget_description', 'widget_float', 'widget_int', 'widget_layout', 'widget_link', 'widget_media', 'widget_output', 'widget_selection', 'widget_selectioncontainer', 'widget_serialization', 'widget_string', 'widget_style', 'widget_templates', 'widget_upload', 'widgets']\n"
     ]
    }
   ],
   "source": [
    "#widgets available in ipywidgets library\n",
    "print(dir(widget))"
   ]
  },
  {
   "cell_type": "markdown",
   "id": "acb60e2c",
   "metadata": {},
   "source": [
    "# THANK YOU FOR WATCHING, HOPE YOU HAVE ENJOYED! 😃😃😃"
   ]
  },
  {
   "cell_type": "code",
   "execution_count": null,
   "id": "5839a523",
   "metadata": {},
   "outputs": [],
   "source": []
  }
 ],
 "metadata": {
  "kernelspec": {
   "display_name": "Python 3 (ipykernel)",
   "language": "python",
   "name": "python3"
  },
  "language_info": {
   "codemirror_mode": {
    "name": "ipython",
    "version": 3
   },
   "file_extension": ".py",
   "mimetype": "text/x-python",
   "name": "python",
   "nbconvert_exporter": "python",
   "pygments_lexer": "ipython3",
   "version": "3.9.7"
  }
 },
 "nbformat": 4,
 "nbformat_minor": 5
}
